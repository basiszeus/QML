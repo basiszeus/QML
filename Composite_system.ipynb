{
 "cells": [
  {
   "cell_type": "markdown",
   "id": "7c2fd373",
   "metadata": {},
   "source": [
    "<center><h1 style=\"background-color: #C6F3CD; border-radius: 10px; color: #FFFFFF; padding: 5px;\">\n",
    "Composite system\n",
    "</h1><center/>"
   ]
  },
  {
   "cell_type": "markdown",
   "id": "bdfa8b4c",
   "metadata": {},
   "source": [
    "**Link to the article** :"
   ]
  },
  {
   "cell_type": "code",
   "execution_count": 1,
   "id": "7a89e17f-900f-4f11-b06f-e3a9298acf7b",
   "metadata": {},
   "outputs": [],
   "source": [
    "import numpy as np"
   ]
  },
  {
   "cell_type": "code",
   "execution_count": 2,
   "id": "eef64054",
   "metadata": {},
   "outputs": [
    {
     "data": {
      "text/plain": [
       "array([0.25, 0.25, 0.25, 0.25])"
      ]
     },
     "execution_count": 2,
     "metadata": {},
     "output_type": "execute_result"
    }
   ],
   "source": [
    "# Represent the probability vector (uniform case: each outcome = 0.25)\n",
    "state = np.array([0.25, 0.25, 0.25, 0.25])\n",
    "state"
   ]
  },
  {
   "cell_type": "code",
   "execution_count": 3,
   "id": "4b1ef89b-8ae6-491a-a7ed-e70a354f26bf",
   "metadata": {},
   "outputs": [],
   "source": [
    "# Define operators on a single coin\n",
    "I = np.array([[1, 0],  # Identity\n",
    "              [0, 1]])\n",
    "\n",
    "F = np.array([[0, 1],  # Flip\n",
    "              [1, 0]])"
   ]
  },
  {
   "cell_type": "code",
   "execution_count": 4,
   "id": "ca3e2ab0-dc0d-4bba-b4f2-7bb424aaff9f",
   "metadata": {},
   "outputs": [
    {
     "name": "stdout",
     "output_type": "stream",
     "text": [
      "Original state: [0.25 0.25 0.25 0.25]\n",
      "After flipping Ahmed's coin: [0.25 0.25 0.25 0.25]\n"
     ]
    }
   ],
   "source": [
    "# Build composite operators using the Kronecker product\n",
    "# Flip Ahmed (first coin), leave Lina (second coin)\n",
    "F_I = np.kron(F, I)\n",
    "\n",
    "# Apply transformation\n",
    "new_state = F_I @ state\n",
    "\n",
    "print(\"Original state:\", state)\n",
    "print(\"After flipping Ahmed's coin:\", new_state)"
   ]
  },
  {
   "cell_type": "markdown",
   "id": "4a7ba507-dc5a-46d6-8919-8f4191b2c283",
   "metadata": {},
   "source": [
    "---"
   ]
  },
  {
   "cell_type": "markdown",
   "id": "3c7c031a-0a9b-45dc-b4fd-49f5a204602e",
   "metadata": {},
   "source": [
    "Imagine you run an online shop. Each visitor has two attributes:\n",
    "\n",
    "- Device: Mobile (0) or Desktop (1)\n",
    "- Action: Bounce (0) or Stay (1)\n",
    "\n",
    "This gives a composite system of 4 states:\n",
    "\n",
    "- 00: Mobile + Bounce\n",
    "- 01: Mobile + Stay\n",
    "- 10: Desktop + Bounce\n",
    "- 11: Desktop + Stay\n",
    "\n",
    "At the start, let’s assume all are equally likely (25% each)\n",
    "\n",
    "Suppose you launch a new UI feature that has the following effects:\n",
    "\n",
    "- On Mobile, it reduces bounce: a user on Mobile has 70% chance to stay instead of 50%\n",
    "- On Desktop, nothing changes"
   ]
  },
  {
   "cell_type": "code",
   "execution_count": 5,
   "id": "46c785c8-691f-4c01-a0bb-fe5e45dd8ca1",
   "metadata": {},
   "outputs": [],
   "source": [
    "# Identity (no change)\n",
    "I = np.array([[1, 0],\n",
    "              [0, 1]])\n",
    "\n",
    "# Bias operator for Action: \n",
    "# Bounce -> Bounce with 0.3, Stay with 0.7\n",
    "# Stay   -> Bounce with 0.3, Stay with 0.7\n",
    "UI = np.array([[0.3, 0.3],\n",
    "               [0.7, 0.7]])"
   ]
  },
  {
   "cell_type": "code",
   "execution_count": 7,
   "id": "b87658cf-75bc-4a08-832f-c20c3b65f8be",
   "metadata": {},
   "outputs": [
    {
     "name": "stdout",
     "output_type": "stream",
     "text": [
      "Original: [0.25 0.25 0.25 0.25]\n",
      "After UI change: [0.15 0.15 0.35 0.35]\n",
      "Sum of probabilities: 0.9999999999999999\n"
     ]
    }
   ],
   "source": [
    "# Operator for Mobile + Action\n",
    "UI_I = np.kron(UI, I)  # Apply UI effect on \"Action\" axis\n",
    "\n",
    "# New state distribution\n",
    "new_state = UI_I @ state\n",
    "\n",
    "print(\"Original:\", state)\n",
    "print(\"After UI change:\", new_state)\n",
    "print(\"Sum of probabilities:\", new_state.sum())"
   ]
  },
  {
   "cell_type": "code",
   "execution_count": 7,
   "id": "c7f6ed7c-589e-4a09-9fd5-e380a1753b61",
   "metadata": {},
   "outputs": [
    {
     "name": "stdout",
     "output_type": "stream",
     "text": [
      "Original: [0.25 0.25 0.25 0.25]\n",
      "After UI change (mobile only): [0.15 0.35 0.25 0.25]\n",
      "Sum of probabilities: 1.0\n"
     ]
    }
   ],
   "source": [
    "# --- Option B (what you wanted): apply UI only to MOBILE users ---\n",
    "# Build block-diagonal: UI on Mobile block (first two entries), Identity on Desktop block (last two)\n",
    "O_mobile_only = np.block([\n",
    "    [UI,np.zeros((2,2))],\n",
    "    [np.zeros((2,2)), I]\n",
    "])\n",
    "\n",
    "new_state = O_mobile_only @ state\n",
    "print(\"Original:\", state)\n",
    "print(\"After UI change (mobile only):\", new_state)         # -> [0.15 0.35 0.25 0.25]\n",
    "print(\"Sum of probabilities:\", new_state.sum())           # -> 1.0 (floating rounding)"
   ]
  },
  {
   "cell_type": "code",
   "execution_count": null,
   "id": "c6bac380-fc3f-452b-9134-1799bdb5aab0",
   "metadata": {},
   "outputs": [],
   "source": []
  }
 ],
 "metadata": {
  "kernelspec": {
   "display_name": "Python 3 (ipykernel)",
   "language": "python",
   "name": "python3"
  },
  "language_info": {
   "codemirror_mode": {
    "name": "ipython",
    "version": 3
   },
   "file_extension": ".py",
   "mimetype": "text/x-python",
   "name": "python",
   "nbconvert_exporter": "python",
   "pygments_lexer": "ipython3",
   "version": "3.13.5"
  }
 },
 "nbformat": 4,
 "nbformat_minor": 5
}
